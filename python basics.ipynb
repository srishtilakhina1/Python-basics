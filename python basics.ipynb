{
 "cells": [
  {
   "cell_type": "code",
   "execution_count": 1,
   "id": "0b21167d",
   "metadata": {},
   "outputs": [
    {
     "name": "stdout",
     "output_type": "stream",
     "text": [
      "hello world\n"
     ]
    }
   ],
   "source": [
    "#introduction to python or #pycharm ide\n",
    "print(\"hello world\")"
   ]
  },
  {
   "cell_type": "code",
   "execution_count": 2,
   "id": "1fec0edc",
   "metadata": {},
   "outputs": [
    {
     "name": "stdout",
     "output_type": "stream",
     "text": [
      "\n"
     ]
    }
   ],
   "source": [
    "print() #blank output or one empty line ''' long comments in triple quotes'''"
   ]
  },
  {
   "cell_type": "code",
   "execution_count": 11,
   "id": "2916049b",
   "metadata": {},
   "outputs": [
    {
     "name": "stdout",
     "output_type": "stream",
     "text": [
      "5\n",
      "python\n"
     ]
    }
   ],
   "source": [
    "#python variables \n",
    "a = 5\n",
    "b = \"python\" #you can also declare string with single quotes\n",
    "print(a)\n",
    "print(b)"
   ]
  },
  {
   "cell_type": "code",
   "execution_count": 12,
   "id": "0a93ac86",
   "metadata": {},
   "outputs": [
    {
     "name": "stdout",
     "output_type": "stream",
     "text": [
      "5\n",
      "python\n",
      "4\n",
      "4\n",
      "4.0\n"
     ]
    }
   ],
   "source": [
    "#casting\n",
    "a=int(5)\n",
    "b=str(\"python\") \n",
    "c=str(4)\n",
    "d=int(4)\n",
    "e=float(4)\n",
    "print(a)\n",
    "print(b)\n",
    "print(c)\n",
    "print(d)\n",
    "print(e)"
   ]
  },
  {
   "cell_type": "code",
   "execution_count": 13,
   "id": "9640d4b6",
   "metadata": {},
   "outputs": [
    {
     "name": "stdout",
     "output_type": "stream",
     "text": [
      "<class 'int'>\n",
      "<class 'str'>\n"
     ]
    }
   ],
   "source": [
    "#you can get the type of a variable using type()\n",
    "a=4\n",
    "b=\"python\"\n",
    "print(type(a))\n",
    "print(type(b))"
   ]
  },
  {
   "cell_type": "code",
   "execution_count": 15,
   "id": "2aaabd4d",
   "metadata": {},
   "outputs": [
    {
     "name": "stdout",
     "output_type": "stream",
     "text": [
      "4\n",
      "python\n"
     ]
    }
   ],
   "source": [
    "#variables names are case sensitive in python\n",
    "a=4\n",
    "A=\"python\" #A will not overwrite a\n",
    "print(a)\n",
    "print(A)"
   ]
  },
  {
   "cell_type": "code",
   "execution_count": 18,
   "id": "6475a5e9",
   "metadata": {
    "scrolled": true
   },
   "outputs": [
    {
     "name": "stdout",
     "output_type": "stream",
     "text": [
      "python\n",
      "java\n",
      "c++\n",
      "computer programming\n",
      "computer programming\n",
      "computer programming\n"
     ]
    }
   ],
   "source": [
    "#multiple variables in one line \n",
    "x,y,z=\"python\" , \"java\" , \"c++\"\n",
    "print(x)\n",
    "print(y)\n",
    "print(z)\n",
    "#one value to multiple variables\n",
    "a=b=c=\"computer programming\" #use equal sign\n",
    "print(a)\n",
    "print(b)\n",
    "print(c)"
   ]
  },
  {
   "cell_type": "code",
   "execution_count": 21,
   "id": "45b055fc",
   "metadata": {},
   "outputs": [
    {
     "name": "stdout",
     "output_type": "stream",
     "text": [
      "a\n",
      "b\n",
      "c\n"
     ]
    }
   ],
   "source": [
    "'''If you have a collection of values in a list, tuple etc.\n",
    "Python allows you to extract the values into variables. This is called unpacking.'''\n",
    "\n",
    "alph=['a','b','c']\n",
    "alph1,alph2,alph3=alph\n",
    "print(alph1)\n",
    "print(alph2)\n",
    "print(alph3)"
   ]
  },
  {
   "cell_type": "code",
   "execution_count": 6,
   "id": "9909ab2c",
   "metadata": {},
   "outputs": [
    {
     "name": "stdout",
     "output_type": "stream",
     "text": [
      "python is language \n",
      "python  is  language \n"
     ]
    }
   ],
   "source": [
    "#concatenation\n",
    "a = \"python \" #give space while declaring variable\n",
    "b = \"is \" \n",
    "c = \"language \" \n",
    "print(a + b + c) #concatenation\n",
    "print(a , b, c)  "
   ]
  },
  {
   "cell_type": "code",
   "execution_count": 2,
   "id": "4c234874",
   "metadata": {},
   "outputs": [
    {
     "name": "stdout",
     "output_type": "stream",
     "text": [
      "global variable is python\n"
     ]
    }
   ],
   "source": [
    "#global variable - when we create a variable outside the function\n",
    "x = \"python\"\n",
    "def func1():\n",
    "    print(\"global variable is \" + x)\n",
    "func1()"
   ]
  },
  {
   "cell_type": "code",
   "execution_count": 5,
   "id": "fcb7d999",
   "metadata": {},
   "outputs": [
    {
     "name": "stdout",
     "output_type": "stream",
     "text": [
      "this is local\n",
      "this is global\n"
     ]
    }
   ],
   "source": [
    "#local variable - when we create a variable outside the function\n",
    "x=\"global\" #global variable\n",
    "def func2():\n",
    "    x=\"local\" #variable name same as global variable\n",
    "    print(\"this is \"+ x )#it will print the value of local\n",
    "func2()\n",
    "print(\"this is \"+ x) #it will print the value of global"
   ]
  },
  {
   "cell_type": "code",
   "execution_count": 7,
   "id": "afdf90c5",
   "metadata": {},
   "outputs": [
    {
     "name": "stdout",
     "output_type": "stream",
     "text": [
      "this global variable is python\n",
      "this global variable is python\n"
     ]
    }
   ],
   "source": [
    "'''if you want to create a global variable inside the function then u need to use \n",
    "a global keyword'''\n",
    "def func3():\n",
    "    global x #global variable\n",
    "    x=\"python\"\n",
    "    print(\"this global variable is \"+ x) #can print here\n",
    "func3()\n",
    "print(\"this global variable is \"+ x) #can print here also\n",
    "\n",
    "\n"
   ]
  },
  {
   "cell_type": "code",
   "execution_count": 12,
   "id": "6fa821f4",
   "metadata": {},
   "outputs": [
    {
     "name": "stdout",
     "output_type": "stream",
     "text": [
      "<class 'list'>\n",
      "<class 'dict'>\n",
      "<class 'range'>\n",
      "(4+0j)\n",
      "<class 'complex'>\n",
      "b'\\x00\\x00\\x00\\x00\\x00'\n",
      "<class 'bytes'>\n"
     ]
    }
   ],
   "source": [
    "x=[\"python\",\"java\",\"c\"]\n",
    "print(type(x))\n",
    "y={\"lang1\":\"java\",\"lang2\":\"python\"}\n",
    "print(type(y))\n",
    "z=range(6)\n",
    "print(type(z))\n",
    "p=4\n",
    "q=complex(p) #will convert int into complex\n",
    "print(q)\n",
    "print(type(q)) #print class complex\n",
    "j=bytes(5)\n",
    "print(j)\n",
    "print(type(j))"
   ]
  },
  {
   "cell_type": "code",
   "execution_count": 43,
   "id": "272cca29",
   "metadata": {},
   "outputs": [
    {
     "name": "stdout",
     "output_type": "stream",
     "text": [
      "e\n",
      " \n",
      "11\n",
      "HELLO WORLD\n",
      "hello world\n",
      "Hello world\n",
      "hello world\n",
      "hELLO wORLD\n",
      "2\n",
      "p\n",
      "y\n",
      "t\n",
      "h\n",
      "o\n",
      "n\n"
     ]
    }
   ],
   "source": [
    "#string are arrays or traverse a string\n",
    "a = \"Hello World\"\n",
    "print(a[1]) #first character at zero position\n",
    "print(a[5]) #return space\n",
    "print(len(a))\n",
    "print(a.upper())\n",
    "print(a.lower())\n",
    "print(a.capitalize())\n",
    "print(a.casefold())\n",
    "print(a.swapcase())\n",
    "print(a.count(\"o\"))\n",
    "#looping through string as it is array\n",
    "for i in \"python\":\n",
    "    print(i)"
   ]
  },
  {
   "cell_type": "code",
   "execution_count": 23,
   "id": "96b2c838",
   "metadata": {},
   "outputs": [
    {
     "name": "stdout",
     "output_type": "stream",
     "text": [
      "True\n",
      "False\n",
      "Yes\n",
      "NO\n"
     ]
    }
   ],
   "source": [
    "#checking string in two ways\n",
    "A=\"python is my favourite language\"\n",
    "print(\"my\" in A) #return true\n",
    "print(\"my\" not in A) #return false\n",
    "#or\n",
    "if(\"my\" in A):\n",
    "    print(\"Yes\")\n",
    "if(\"ro\" not in A):\n",
    "    print(\"NO\")"
   ]
  },
  {
   "cell_type": "code",
   "execution_count": 17,
   "id": "3cd21ab1",
   "metadata": {},
   "outputs": [
    {
     "name": "stdout",
     "output_type": "stream",
     "text": [
      "ang python! \n",
      "lang \n",
      "hon\n",
      "LANG PYTHON! \n",
      "lang python! \n",
      "lang python! \n",
      "lanu python! \n",
      "['lang', 'python!']\n",
      "['lang pyth', 'n! ']\n",
      "['lang ', 'ython! ']\n",
      "['', 'ang python! ']\n",
      "['lang python! ']\n",
      "['lang python! ']\n"
     ]
    }
   ],
   "source": [
    "a= \"lang python! \"\n",
    "print(a[1:])\n",
    "print(a[:5])\n",
    "print(a[-5:-2])\n",
    "print(a.upper())\n",
    "print(a.lower())\n",
    "print(a.strip(\"\")) #removes outer space\n",
    "print(a.replace(\"g\",\"u\")) #replace g with u\n",
    "print(a.split()) \n",
    "print(a.split('o'))\n",
    "print(a.split('p'))\n",
    "print(a.split('l'))\n",
    "print(a.split(','))\n"
   ]
  },
  {
   "cell_type": "code",
   "execution_count": 27,
   "id": "cd5ea14d",
   "metadata": {},
   "outputs": [
    {
     "name": "stdout",
     "output_type": "stream",
     "text": [
      "my name is srishti and I am 20\n",
      "I want to pay 500 for 20 chips\n",
      "I am 24 years old and i have travel 4 times and it cost me 20000\n"
     ]
    }
   ],
   "source": [
    "#as we know we can not concatenate string and number\n",
    "#but we can combine them using format() method like this\n",
    "int=20\n",
    "string=\"my name is srishti and I am {}\"\n",
    "print(string.format(int))\n",
    "#you can combine multiple integers like this -\n",
    "price=500\n",
    "quantity=20\n",
    "str2=\"I want to pay {} for {} chips\"\n",
    "print(str2.format(price,quantity))\n",
    "#you can specify the order as well as index number\n",
    "travel=4\n",
    "age=24\n",
    "cost=20000\n",
    "str3=\"I am {2} years old and i have travel {0} times and it cost me {1}\" #assigend acc to print order\n",
    "print(str3.format(travel,cost,age))\n"
   ]
  },
  {
   "cell_type": "code",
   "execution_count": 38,
   "id": "4bab9a01",
   "metadata": {},
   "outputs": [
    {
     "name": "stdout",
     "output_type": "stream",
     "text": [
      "I am the \"best\" \n",
      "Name \n",
      "Srishti\n",
      "Name\tsrishti\n",
      "My Name is \r",
      "Srishti\n",
      "I am the best\\\n"
     ]
    }
   ],
   "source": [
    "#escape characters\n",
    "#An escape character is a backslash \\ followed by the character you want to insert.\n",
    "#To insert characters that are illegal in a string, use an escape character.\n",
    "A=\"I am the \\\"best\\\" \"\n",
    "print(A)\n",
    "B=\"Name \\nSrishti\"\n",
    "print(B)\n",
    "C=\"Name\\tsrishti\" \n",
    "print(C)\n",
    "D=\"My Name is \\rSrishti\" \n",
    "#carriage return...srishti contains 7 letters it will print as it as and then \n",
    "#go in the beginning deleting 7 starting letters and then print remaining string\n",
    "print(D)\n",
    "E=\"I am the best\\\\\"\n",
    "print(E)\n",
    "\n",
    "\n",
    "\n",
    "\n",
    "\n"
   ]
  },
  {
   "cell_type": "code",
   "execution_count": 7,
   "id": "e16dda40",
   "metadata": {},
   "outputs": [
    {
     "name": "stdout",
     "output_type": "stream",
     "text": [
      "['python', 'java', 'C']\n",
      "java\n",
      "['python', 'R', 'java', 'C++']\n"
     ]
    }
   ],
   "source": [
    "#list making with the list() constructor\n",
    "list1=list((\"python\",\"java\",\"C\"))\n",
    "print(list1)\n",
    "print(list1[1]) #access value\n",
    "list1[2]=\"C++\" #change value\n",
    "list1.insert(1,\"R\")\n",
    "print(list1)\n",
    "#List is a collection which is ordered and changeable. Allows duplicate members.\n"
   ]
  },
  {
   "cell_type": "code",
   "execution_count": 11,
   "id": "8eb65134",
   "metadata": {},
   "outputs": [
    {
     "name": "stdout",
     "output_type": "stream",
     "text": [
      "<class 'tuple'>\n"
     ]
    }
   ],
   "source": [
    "t=(\"java\")\n",
    "print(type(t))"
   ]
  },
  {
   "cell_type": "code",
   "execution_count": 10,
   "id": "dcce4fce",
   "metadata": {},
   "outputs": [
    {
     "name": "stdout",
     "output_type": "stream",
     "text": [
      "['momos', 'pizza', 'burger', 'noodles', 'rolls']\n",
      "['dosa', 'momos', 'pizza', 'burger', 'noodles', 'rolls', 'maggie']\n",
      "['pizza', 'burger', 'noodles']\n"
     ]
    }
   ],
   "source": [
    "# adding in list\n",
    "food1=[\"momos\",\"pizza\",\"burger\"]\n",
    "food2=[\"noodles\",\"rolls\"]\n",
    "food1.extend(food2) #joins both list or any other iterable object like tuple , set or dictionary\n",
    "print(food1)\n",
    "food1.append(\"maggie\")\n",
    "food1.insert(0,\"dosa\")\n",
    "print(food1)\n",
    "print(food1[2:5])\n"
   ]
  },
  {
   "cell_type": "code",
   "execution_count": 5,
   "id": "ed26f09e",
   "metadata": {},
   "outputs": [
    {
     "name": "stdout",
     "output_type": "stream",
     "text": [
      "[]\n"
     ]
    }
   ],
   "source": [
    "#removing from list\n",
    "list=[\"english\",\"science\",\"sst\"]\n",
    "list.remove(\"sst\")\n",
    "list.pop(1) #remove with use of index\n",
    "list.clear() #returns empty list\n",
    "print(list)"
   ]
  },
  {
   "cell_type": "code",
   "execution_count": 8,
   "id": "0f235a50",
   "metadata": {},
   "outputs": [
    {
     "name": "stdout",
     "output_type": "stream",
     "text": [
      "1\n",
      "2\n",
      "3\n",
      "4\n",
      "5\n",
      "12\n",
      "13\n",
      "14\n",
      "16\n",
      "18\n"
     ]
    }
   ],
   "source": [
    "#looping in list\n",
    "list=[1,2,3,4,5]\n",
    "for i in range(len(list)):\n",
    "    print(list[i])\n",
    "list2=[12,13,14,16,18]\n",
    "i=0\n",
    "while i<len(list2):\n",
    "    print(list2[i])\n",
    "    i=i+1"
   ]
  },
  {
   "cell_type": "code",
   "execution_count": 11,
   "id": "64492f86",
   "metadata": {},
   "outputs": [
    {
     "name": "stdout",
     "output_type": "stream",
     "text": [
      "['cherry', 'orange', 'kiwi', 'melon']\n"
     ]
    }
   ],
   "source": [
    "fruits = [\"apple\", \"banana\", \"cherry\", \"orange\", \"kiwi\", \"melon\", \"mango\"]\n",
    "print(fruits[2:6])\n"
   ]
  },
  {
   "cell_type": "code",
   "execution_count": 12,
   "id": "958b5a40",
   "metadata": {},
   "outputs": [
    {
     "name": "stdout",
     "output_type": "stream",
     "text": [
      "['pizza', 'burger', 'noodles', 'rolls']\n"
     ]
    }
   ],
   "source": [
    "food = ['dosa', 'momos', 'pizza', 'burger', 'noodles', 'rolls', 'maggie']\n",
    "print(food[2:6])\n",
    "\n"
   ]
  },
  {
   "cell_type": "code",
   "execution_count": 8,
   "id": "f612d433",
   "metadata": {},
   "outputs": [
    {
     "name": "stdout",
     "output_type": "stream",
     "text": [
      "['english', 'science']\n",
      "['srishti', 'nikki', 'shivangi']\n"
     ]
    }
   ],
   "source": [
    "list1=[\"english\",\"sst\",\"science\",\"computer\"]\n",
    "list2=[]\n",
    "for x in list1:\n",
    "    if \"i\" in x:\n",
    "        list2.append(x)\n",
    "print(list2)\n",
    "#same using list comprehension\n",
    "A=[\"srishti\",\"nikki\",\"sneha\",\"shivangi\"]\n",
    "B=[x for x in A if \"i\" in x]\n",
    "print(B)\n",
    "\n",
    "        "
   ]
  },
  {
   "cell_type": "code",
   "execution_count": 1,
   "id": "e095e77f",
   "metadata": {},
   "outputs": [
    {
     "name": "stdout",
     "output_type": "stream",
     "text": [
      "('apple', 'orange', 'kiwi')\n"
     ]
    }
   ],
   "source": [
    "#tuple\n",
    "#A tuple is a collection which is ordered and unchangeable\n",
    "#represented by round bracket\n",
    "tuple1=(\"apple\",\"orange\",\"kiwi\")\n",
    "print(tuple1)\n",
    "\n"
   ]
  },
  {
   "cell_type": "code",
   "execution_count": 2,
   "id": "819f1b3c",
   "metadata": {},
   "outputs": [
    {
     "name": "stdout",
     "output_type": "stream",
     "text": [
      "('apple',)\n"
     ]
    }
   ],
   "source": [
    "#tuple with one item\n",
    "tuple2=(\"apple\",) #should have comma otherwise considered as string\n",
    "print(tuple2)"
   ]
  },
  {
   "cell_type": "code",
   "execution_count": 12,
   "id": "28aad1ce",
   "metadata": {},
   "outputs": [
    {
     "name": "stdout",
     "output_type": "stream",
     "text": [
      "('java', 'c', 'python')\n"
     ]
    }
   ],
   "source": [
    "#tuple constructor\n",
    "tuple1=tuple((\"java\",\"c\",\"python\"))\n",
    "print(tuple1)"
   ]
  },
  {
   "cell_type": "code",
   "execution_count": 3,
   "id": "0ca99288",
   "metadata": {},
   "outputs": [
    {
     "name": "stdout",
     "output_type": "stream",
     "text": [
      "[1]\n"
     ]
    }
   ],
   "source": [
    "n=int(input(\"Enter a number :\"))"
   ]
  },
  {
   "cell_type": "code",
   "execution_count": 7,
   "id": "261525f9-f911-45f0-b67e-d9f01b3836a1",
   "metadata": {},
   "outputs": [
    {
     "name": "stdin",
     "output_type": "stream",
     "text": [
      "enter number 5\n"
     ]
    },
    {
     "data": {
      "text/plain": [
       "120"
      ]
     },
     "execution_count": 7,
     "metadata": {},
     "output_type": "execute_result"
    }
   ],
   "source": [
    "#factorial\n",
    "def factorial(n):\n",
    "    if n==0:\n",
    "        return 1\n",
    "    else:\n",
    "        return n * factorial(n-1)\n",
    "num=int(input(\"enter number\"))\n",
    "factorial(num)\n",
    "    "
   ]
  },
  {
   "cell_type": "code",
   "execution_count": 12,
   "id": "8c68cc3d-7cf9-4f75-9e12-747b6cbee97c",
   "metadata": {},
   "outputs": [
    {
     "ename": "TypeError",
     "evalue": "data type 'fruits' not understood",
     "output_type": "error",
     "traceback": [
      "\u001b[1;31m---------------------------------------------------------------------------\u001b[0m",
      "\u001b[1;31mTypeError\u001b[0m                                 Traceback (most recent call last)",
      "Cell \u001b[1;32mIn[12], line 2\u001b[0m\n\u001b[0;32m      1\u001b[0m \u001b[38;5;28;01mimport\u001b[39;00m \u001b[38;5;21;01mnumpy\u001b[39;00m \u001b[38;5;28;01mas\u001b[39;00m \u001b[38;5;21;01mnp\u001b[39;00m\n\u001b[1;32m----> 2\u001b[0m a\u001b[38;5;241m=\u001b[39m\u001b[43mnp\u001b[49m\u001b[38;5;241;43m.\u001b[39;49m\u001b[43marray\u001b[49m\u001b[43m(\u001b[49m\u001b[38;5;124;43m\"\u001b[39;49m\u001b[38;5;124;43morange\u001b[39;49m\u001b[38;5;124;43m\"\u001b[39;49m\u001b[43m,\u001b[49m\u001b[38;5;124;43m\"\u001b[39;49m\u001b[38;5;124;43mfruits\u001b[39;49m\u001b[38;5;124;43m\"\u001b[39;49m\u001b[43m)\u001b[49m\n\u001b[0;32m      3\u001b[0m b\u001b[38;5;241m=\u001b[39mnp\u001b[38;5;241m.\u001b[39marray(\u001b[38;5;241m2\u001b[39m)\n",
      "\u001b[1;31mTypeError\u001b[0m: data type 'fruits' not understood"
     ]
    }
   ],
   "source": [
    "import numpy as np\n"
   ]
  },
  {
   "cell_type": "code",
   "execution_count": null,
   "id": "a21e9dc8-0148-403b-bec7-dde73d8c5624",
   "metadata": {},
   "outputs": [],
   "source": []
  }
 ],
 "metadata": {
  "kernelspec": {
   "display_name": "Python 3 (ipykernel)",
   "language": "python",
   "name": "python3"
  },
  "language_info": {
   "codemirror_mode": {
    "name": "ipython",
    "version": 3
   },
   "file_extension": ".py",
   "mimetype": "text/x-python",
   "name": "python",
   "nbconvert_exporter": "python",
   "pygments_lexer": "ipython3",
   "version": "3.12.2"
  }
 },
 "nbformat": 4,
 "nbformat_minor": 5
}
